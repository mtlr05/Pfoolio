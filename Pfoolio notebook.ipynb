{
 "cells": [
  {
   "cell_type": "markdown",
   "id": "17876189",
   "metadata": {},
   "source": [
    "# Appendix: Portfolio Optimization Using Pfoolio"
   ]
  },
  {
   "cell_type": "markdown",
   "id": "abeca898",
   "metadata": {},
   "source": [
    "We aim to define a simple method to allocate capital to a portfolio of various assets. Using only a few inputs of easy to interpret values. The outcome of the calculation is the desired weights to maximize the growth of the portfolio for the given assumption. The method follows a similar approach to that which is used to define the Kelly Criterion but now generalized to a portfolio of multiple assets.\n",
    "\n",
    "All that's required is:\n",
    "1) the number of stocks  \n",
    "2) the probability of the base case for each stock    \n",
    "3) the estimated gain (base case) or loss (bear case) for each stock in the portfolio   \n",
    "\n",
    "For example a portfolio of 3 stocks could be input as simply as:"
   ]
  },
  {
   "cell_type": "code",
   "execution_count": 137,
   "id": "8693e2c5",
   "metadata": {},
   "outputs": [],
   "source": [
    "n=3 #the number of stocks in the portfolio, first required input\n",
    "p = np.array([0.7,0.7,0.7]) #probability of the base case, second required input\n",
    "b = [1,1,1] #upside gain, third required input\n",
    "a = [0.5,0.5,0.5] #downside loss, third required input"
   ]
  },
  {
   "cell_type": "markdown",
   "id": "644407d8",
   "metadata": {},
   "source": [
    "That's it! We will show below how these are used to calculate optimal allocations to these 3 stock."
   ]
  },
  {
   "cell_type": "markdown",
   "id": "accfe9d5",
   "metadata": {},
   "source": [
    "## What are the possible outcomes for our portfolio?"
   ]
  },
  {
   "cell_type": "markdown",
   "id": "86d25a10",
   "metadata": {},
   "source": [
    "To illustrate the idea behind the portfolio optimizer, we will use the example of a portfolio of 3 stocks, each with potential upside and downside, and a likelihood of achieving them. We simplify the potential outcomes to say that for a given stock there are 2 discrete outcomes, either it achieves a specific base case or a specific bear case. Even with this simplification, when extending the problem to include a portfolio of companies, there are various potential outcomes, all stocks might be winners, all might be losers or some combination of winners and losers.In the case of the three stock portfolio, where a '1' represents a stock which achieves its 'base' case and '0' where a stock achieves its 'bear' case, the possible combinations are: "
   ]
  },
  {
   "cell_type": "code",
   "execution_count": 133,
   "id": "c6d02474",
   "metadata": {},
   "outputs": [
    {
     "name": "stdout",
     "output_type": "stream",
     "text": [
      "[[1. 1. 1.]\n",
      " [0. 1. 1.]\n",
      " [1. 0. 1.]\n",
      " [0. 0. 1.]\n",
      " [1. 1. 0.]\n",
      " [0. 1. 0.]\n",
      " [1. 0. 0.]\n",
      " [0. 0. 0.]]\n"
     ]
    }
   ],
   "source": [
    "n = 3  #the number of stocks in the portfolio, first required input\n",
    "\n",
    "c = combination_tree(n)\n",
    "print(c)"
   ]
  },
  {
   "cell_type": "markdown",
   "id": "b385f9c4",
   "metadata": {},
   "source": [
    "With each row representing a possible outcome, and again because of our simplifications, the possible outcomes are finite with each stock either achieving a base case or bear case. Some of you will know that 3 events (i.e. stocks) with 2 outcomes (base/bear case) will have,\n",
    "$$2^3=8$$ \n",
    "possible outcomes, which is exactly what we see above.\n"
   ]
  },
  {
   "cell_type": "markdown",
   "id": "85f6d717",
   "metadata": {},
   "source": [
    "## What outcomes are most likely? "
   ]
  },
  {
   "cell_type": "markdown",
   "id": "92286186",
   "metadata": {},
   "source": [
    "Now, despite all these combinations being possible, they are not equally likely. We have chosen these stocks because we expect the base case to play out and that the bear case is unlikely. Let's continue our example and for simplicity sake let's say that on an individual level each of these have a 70% chance of success. It follows that the chance of them all achieving their base case would be 70%x70%x70%=34% (which might be lower then some would expect!). Conversily, the chance of all of them going bearish would be 30%x30%x30% = 2.7%. But we just saw that these are not the only possibilities. Following the same order as the scenarios above, the probabilities for each of these are as follows:"
   ]
  },
  {
   "cell_type": "code",
   "execution_count": 134,
   "id": "272f2be2",
   "metadata": {},
   "outputs": [
    {
     "name": "stdout",
     "output_type": "stream",
     "text": [
      "[0.343 0.147 0.147 0.063 0.147 0.063 0.063 0.027]\n"
     ]
    }
   ],
   "source": [
    "p = np.array([0.7,0.7,0.7]) #probability of the base case, second required input\n",
    "\n",
    "P = pmf(c,p)\n",
    "print(P)"
   ]
  },
  {
   "cell_type": "markdown",
   "id": "81c84441",
   "metadata": {},
   "source": [
    "The first and last numbers are the probabilities we discussed above, i.e. 34.3% and 2.7%, but now you can also see the likelihoods of all the other potential outcomes which were described in the combination tree.\n",
    "\n",
    "Now that we know the probabilties of each of those outcomes we can also calculate the gain/loss which we would achieve in our portfolio. To do this we need to estimate the upside gain, the downside gain and we need to decide how much to allocate. Say we have a stock wich gains 100% and is 1/3 of our portfolio, this will contribute a gain of: 1/3x100%=33% at the portfolio level. Or say it loses 50% if things go unfavourably, then the loss would be: 1/3x50%=16.6% at the portfolio level.\n",
    "\n",
    "And then for example, if 2 stocks do well and 1 loses, the net gain is then, 1/3x100+ 1/3x100 - 1/3x50 = 50% return\n",
    "\n",
    "This calculation can be repeated for all the combinations above."
   ]
  },
  {
   "cell_type": "code",
   "execution_count": 135,
   "id": "e8fa4e7c",
   "metadata": {},
   "outputs": [
    {
     "name": "stdout",
     "output_type": "stream",
     "text": [
      "[ 1.   0.5  0.5  0.   0.5  0.   0.  -0.5]\n"
     ]
    }
   ],
   "source": [
    "b = [1,1,1] #upside gain, third required input\n",
    "a = [0.5,0.5,0.5] #downside loss, third required input\n",
    "f = [1/n,1/n,1/n] #portfolio weights\n",
    "\n",
    "R=net_gain(b,a,c,f)\n",
    "print(R)"
   ]
  },
  {
   "cell_type": "markdown",
   "id": "31fbb81d",
   "metadata": {},
   "source": [
    "Interestingly a concentrated portfolio of stocks which we stongly believe to double (i.e. 100% return with 70% confidence) may produce returns quite a bit lower than this. In this case it's mostly because the downside was pretty large, but the idea is still worth keeping in mind. We can further visualize the data using a histogram."
   ]
  },
  {
   "cell_type": "code",
   "execution_count": 136,
   "id": "f63b4e67",
   "metadata": {},
   "outputs": [
    {
     "data": {
      "image/png": "[encoded data removed]",
      "text/plain": [
       "<Figure size 432x288 with 1 Axes>"
      ]
     },
     "metadata": {
      "needs_background": "light"
     },
     "output_type": "display_data"
    }
   ],
   "source": [
    "# the histogram of the data\n",
    "n, bins, patches = plt.hist(R, 30, facecolor='b', alpha=0.75, weights=P)\n",
    "plt.xlabel('Returns')\n",
    "plt.ylabel('Probability')\n",
    "plt.title('Histogram Returns')\n",
    "plt.grid(True)\n",
    "plt.show()"
   ]
  },
  {
   "cell_type": "markdown",
   "id": "d2eb2fc6",
   "metadata": {},
   "source": [
    "## How much should we invest? *Portfolio growth and stock weights* "
   ]
  },
  {
   "cell_type": "markdown",
   "id": "d0e526f2",
   "metadata": {},
   "source": [
    "Finally we can combine all these calculations to estimate the portfolio growth. Conceptually what is done is that assume that the portfolio compounds with varying returns (as calculated by the net gains) in proportion to the probabilities which we have caculated. Perhaps you're expecting this to be a complicated formula but it's relatively simple expression. \n",
    "\n",
    "$$G =\\prod \\limits _{i=1} ^{k}(1+R(f_{n})_{i})^{P_{i}}$$\n",
    "\n",
    "But in any event, no need to spend too much time on this. It's the same equation maximized in to calculate the well known Kelly Criterion but generalized to a portfolio with more then 2 outcomes.$R(f_{n})$ and $P$ represent the net gains and probabilities which we have calculated above. Continuing with out 3 stock example, in an equally weighted portfolio, with no leverage (remember $f=1/3$, so for 3 stocks we are fully invested) the portfolio growth is,"
   ]
  },
  {
   "cell_type": "code",
   "execution_count": 162,
   "id": "2c85f9aa",
   "metadata": {},
   "outputs": [
    {
     "data": {
      "text/plain": [
       "1.4886127138727536"
      ]
     },
     "execution_count": 162,
     "metadata": {},
     "output_type": "execute_result"
    }
   ],
   "source": [
    "growth(R,P)"
   ]
  },
  {
   "cell_type": "markdown",
   "id": "81c39a5c",
   "metadata": {},
   "source": [
    "In other words, 48.8% growth.\n",
    "\n",
    "Now comes the important part, we can use this to choose the theoretically *ideal* weighting of our stocks and the amount of cash we should hold too. We do this by finding the portfolio weights $f_{i}$, which will give our portfolio the highest expected growth. Because all three stocks have the exact same characteristics, it stands to reason that they should all be equally allocated, but the question still remains how much of the overall 'bankroll' should be allocated? "
   ]
  },
  {
   "cell_type": "code",
   "execution_count": 218,
   "id": "050e8927",
   "metadata": {},
   "outputs": [
    {
     "data": {
      "image/png": "[encoded data removed]",
      "text/plain": [
       "<Figure size 144x144 with 1 Axes>"
      ]
     },
     "metadata": {
      "needs_background": "light"
     },
     "output_type": "display_data"
    }
   ],
   "source": [
    "F = np.linspace(0, 2/3, 100)\n",
    "g = np.zeros(len(F))\n",
    "\n",
    "for i in range(len(F)):\n",
    "    f = [F[i],F[i],F[i]]\n",
    "    R = net_gain(b,a,c,f)\n",
    "    g[i] = growth(R,P)\n",
    "\n",
    "plt.style.use('_mpl-gallery')\n",
    "fig, ax = plt.subplots()\n",
    "ax.plot(F, g, linewidth=2.0)\n",
    "ax.set(xlabel='stock weight, f', ylabel='portfolio growth')\n",
    "\n",
    "plt.show() "
   ]
  },
  {
   "cell_type": "markdown",
   "id": "5dc373bd",
   "metadata": {},
   "source": [
    "We see here that each stock should have a weighting of just over $f=0.6$. Which in other words means the portfolio should be levered i.e. 3x0.6=1.8 (in theory!).  "
   ]
  },
  {
   "cell_type": "code",
   "execution_count": 160,
   "id": "1b897868",
   "metadata": {},
   "outputs": [],
   "source": [
    "import matplotlib.pyplot as plt\n",
    "import numpy as np\n",
    "\n",
    "def combination_tree(n):\n",
    "    '''generate a tree of all possible combination'''\n",
    "    c = np.array([1,0])\n",
    "    num_cols = 2\n",
    "    for i in range(n-1):\n",
    "        c1 = np.vstack((c,np.ones(num_cols)))\n",
    "        cz = np.vstack((c,np.zeros(num_cols)))\n",
    "        c = np.hstack((c1,cz))\n",
    "        num_rows, num_cols = c.shape\n",
    "    return np.transpose(c)\n",
    "\n",
    "def pmf(c,p):\n",
    "    '''generate the probabilities if each outcome defined in the probability tree'''\n",
    "    num_rows, num_cols = c.shape\n",
    "    P = np.ones(num_rows)\n",
    "    #print(P)\n",
    "    for j in range(len(p)):\n",
    "        #print((c[:,j])*p[j]+(1-c[:,j])*(1-p[j]))\n",
    "        P = np.multiply(P,(c[:,j])*p[j]+(1-c[:,j])*(1-p[j]))\n",
    "    return P\n",
    "\n",
    "def net_gain(b,a,c,f):\n",
    "    '''calculate the array of net gains'''\n",
    "    R=np.matmul(c,np.multiply(f,b))-np.matmul(1-c,np.multiply(f,a))\n",
    "    return R\n",
    "\n",
    "def growth(R,P):\n",
    "    g=1\n",
    "    for i in range(len(P)):\n",
    "        g=g*(1+R[i])**P[i]\n",
    "    return g"
   ]
  }
 ],
 "metadata": {
  "kernelspec": {
   "display_name": "Python 3 (ipykernel)",
   "language": "python",
   "name": "python3"
  },
  "language_info": {
   "codemirror_mode": {
    "name": "ipython",
    "version": 3
   },
   "file_extension": ".py",
   "mimetype": "text/x-python",
   "name": "python",
   "nbconvert_exporter": "python",
   "pygments_lexer": "ipython3",
   "version": "3.9.12"
  }
 },
 "nbformat": 4,
 "nbformat_minor": 5
}
